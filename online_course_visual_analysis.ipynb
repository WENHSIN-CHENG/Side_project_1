{
 "cells": [
  {
   "cell_type": "markdown",
   "id": "157f7e34",
   "metadata": {},
   "source": [
    "# 📊 視覺化分析：線上課程推薦系統"
   ]
  },
  {
   "cell_type": "code",
   "execution_count": null,
   "id": "f321dc97",
   "metadata": {},
   "outputs": [],
   "source": [
    "import pandas as pd\n",
    "import numpy as np\n",
    "import matplotlib.pyplot as plt\n",
    "%matplotlib inline"
   ]
  },
  {
   "cell_type": "markdown",
   "id": "4e5a7ec1",
   "metadata": {},
   "source": [
    "## 匯入資料"
   ]
  },
  {
   "cell_type": "code",
   "execution_count": null,
   "id": "6954d759",
   "metadata": {},
   "outputs": [],
   "source": [
    "course_data = {\n",
    "    '課程名稱': [...],  # 省略資料細節\n",
    "    '平台': [...],\n",
    "    '價格': [...],\n",
    "    '評分': [...],\n",
    "    '評價數': [...],\n",
    "    '語言': [...],\n",
    "    '開課單位': [...],\n",
    "    '是否專案導向': [...],\n",
    "    '是否提供證書': [...],\n",
    "    '課程主題': [...],\n",
    "    '課程長度（小時）': [...],\n",
    "}\n",
    "df = pd.DataFrame(course_data)\n",
    "df['實戰推薦指數'] = (\n",
    "    df['評分'] * np.log1p(df['評價數']) +\n",
    "    df['是否專案導向'] * 3 +\n",
    "    df['是否提供證書'] * 1.5 -\n",
    "    df['價格'] / 1000\n",
    ").round(2)"
   ]
  },
  {
   "cell_type": "markdown",
   "id": "08944781",
   "metadata": {},
   "source": [
    "## 圖 1：各平台課程數量"
   ]
  },
  {
   "cell_type": "code",
   "execution_count": null,
   "id": "b3ba01ed",
   "metadata": {},
   "outputs": [],
   "source": [
    "df['平台'].value_counts().plot(kind='bar', figsize=(8, 5))\n",
    "plt.title('各平台課程數量')\n",
    "plt.xlabel('平台')\n",
    "plt.ylabel('課程數')\n",
    "plt.tight_layout()\n",
    "plt.show()"
   ]
  },
  {
   "cell_type": "markdown",
   "id": "fbf096ac",
   "metadata": {},
   "source": [
    "## 圖 2：課程主題平均評分"
   ]
  },
  {
   "cell_type": "code",
   "execution_count": null,
   "id": "da1362b2",
   "metadata": {},
   "outputs": [],
   "source": [
    "df.groupby('課程主題')['評分'].mean().sort_values().plot(kind='barh', figsize=(8, 5), color='skyblue')\n",
    "plt.title('課程主題 vs 平均評分')\n",
    "plt.xlabel('平均評分')\n",
    "plt.xlim(0, 5)\n",
    "plt.tight_layout()\n",
    "plt.show()"
   ]
  },
  {
   "cell_type": "markdown",
   "id": "fc2578e1",
   "metadata": {},
   "source": [
    "## 圖 3：價格 vs 評分（泡泡圖）"
   ]
  },
  {
   "cell_type": "code",
   "execution_count": null,
   "id": "8fe43896",
   "metadata": {},
   "outputs": [],
   "source": [
    "plt.figure(figsize=(8, 5))\n",
    "plt.scatter(df['價格'], df['評分'], s=df['評價數']/100, alpha=0.6)\n",
    "plt.title('價格 vs 評分（泡泡大小代表評價數）')\n",
    "plt.xlabel('價格')\n",
    "plt.ylabel('評分')\n",
    "plt.grid(True)\n",
    "plt.tight_layout()\n",
    "plt.show()"
   ]
  },
  {
   "cell_type": "markdown",
   "id": "a76163fe",
   "metadata": {},
   "source": [
    "## 圖 4：實戰推薦指數 Top 5 課程"
   ]
  },
  {
   "cell_type": "code",
   "execution_count": null,
   "id": "0223791b",
   "metadata": {},
   "outputs": [],
   "source": [
    "top5 = df.sort_values(by='實戰推薦指數', ascending=False).head(5)\n",
    "plt.figure(figsize=(10, 6))\n",
    "plt.barh(top5['課程名稱'], top5['實戰推薦指數'], color='purple')\n",
    "plt.title('實戰推薦指數 Top 5 課程')\n",
    "plt.xlabel('推薦指數')\n",
    "plt.gca().invert_yaxis()\n",
    "plt.tight_layout()\n",
    "plt.show()"
   ]
  }
 ],
 "metadata": {
  "kernelspec": {
   "display_name": "Python 3",
   "name": "python3"
  }
 },
 "nbformat": 4,
 "nbformat_minor": 5
}
