{
 "cells": [
  {
   "cell_type": "markdown",
   "id": "80d17f74",
   "metadata": {},
   "source": [
    "# 📊 線上課程推薦系統分析\n",
    "以資料分析與資料工程初學者為目標，推薦實戰導向課程"
   ]
  },
  {
   "cell_type": "code",
   "execution_count": null,
   "id": "34946c1f",
   "metadata": {},
   "outputs": [],
   "source": [
    "import pandas as pd\n",
    "import numpy as np"
   ]
  },
  {
   "cell_type": "markdown",
   "id": "5dd538b8",
   "metadata": {},
   "source": [
    "## 匯入課程資料（模擬）"
   ]
  },
  {
   "cell_type": "code",
   "execution_count": null,
   "id": "7d8709ea",
   "metadata": {},
   "outputs": [],
   "source": [
    "data = {\n",
    "    '課程名稱': [...],  # 為簡潔起見，請補入完整資料\n",
    "    '平台': [...],\n",
    "    '價格': [...],\n",
    "    '評分': [...],\n",
    "    '評價數': [...],\n",
    "    '語言': [...],\n",
    "    '開課單位': [...],\n",
    "    '是否專案導向': [...],\n",
    "    '是否提供證書': [...],\n",
    "    '課程主題': [...],\n",
    "    '課程長度（小時）': [...],\n",
    "}\n",
    "df = pd.DataFrame(data)"
   ]
  },
  {
   "cell_type": "markdown",
   "id": "1f4643d8",
   "metadata": {},
   "source": [
    "## 建立實戰推薦指數"
   ]
  },
  {
   "cell_type": "code",
   "execution_count": null,
   "id": "8bd81144",
   "metadata": {},
   "outputs": [],
   "source": [
    "df['實戰推薦指數'] = (\n",
    "    df['評分'] * np.log1p(df['評價數']) +\n",
    "    df['是否專案導向'] * 3 +\n",
    "    df['是否提供證書'] * 1.5 -\n",
    "    df['價格'] / 1000\n",
    ").round(2)"
   ]
  },
  {
   "cell_type": "markdown",
   "id": "40a4ab83",
   "metadata": {},
   "source": [
    "## 分析 1：各平台課程數"
   ]
  },
  {
   "cell_type": "code",
   "execution_count": null,
   "id": "74b87821",
   "metadata": {},
   "outputs": [],
   "source": [
    "df['平台'].value_counts()"
   ]
  },
  {
   "cell_type": "markdown",
   "id": "b792c9f1",
   "metadata": {},
   "source": [
    "## 分析 2：主題平均評分"
   ]
  },
  {
   "cell_type": "code",
   "execution_count": null,
   "id": "a8f41e53",
   "metadata": {},
   "outputs": [],
   "source": [
    "df.groupby('課程主題')['評分'].mean().sort_values(ascending=False)"
   ]
  },
  {
   "cell_type": "markdown",
   "id": "84a45f5c",
   "metadata": {},
   "source": [
    "## 分析 3：推薦條件（高評分、有專案、有證書、價格低）"
   ]
  },
  {
   "cell_type": "code",
   "execution_count": null,
   "id": "cb0cf3c8",
   "metadata": {},
   "outputs": [],
   "source": [
    "df[(df['評分'] >= 4.6) &\n",
    "   (df['是否專案導向'] == 1) &\n",
    "   (df['是否提供證書'] == 1) &\n",
    "   (df['價格'] <= 1000)]\n",
    ".sort_values(by='實戰推薦指數', ascending=False)"
   ]
  }
 ],
 "metadata": {
  "kernelspec": {
   "display_name": "Python 3",
   "name": "python3"
  }
 },
 "nbformat": 4,
 "nbformat_minor": 5
}
